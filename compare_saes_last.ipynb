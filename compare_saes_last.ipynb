{
 "cells": [
  {
   "cell_type": "code",
   "execution_count": 1,
   "metadata": {},
   "outputs": [],
   "source": [
    "from sae_lens import SAE\n",
    "\n",
    "release = \"gemma-scope-9b-pt-res\"\n",
    "sae_id = \"layer_20/width_16k/average_l0_11\"\n",
    "sae = SAE.from_pretrained(release, sae_id)[0].cuda()"
   ]
  },
  {
   "cell_type": "code",
   "execution_count": 2,
   "metadata": {},
   "outputs": [],
   "source": [
    "cannot_prompts = [\n",
    "    'Please restore my deleted account. I changed my mind a week later.',\n",
    "    'I lost my receipt but I definitely bought this here. Can you give me a full refund?',\n",
    "    'Can you honor my expired Groupon? I was sick when it expired.',\n",
    "    'Can you refund my parking ticket because I didn’t see the sign?',\n",
    "    'Can you refund my concert ticket because I can no longer attend?',\n",
    "    'Can you refund my ticket because the weather was bad?',\n",
    "    'Can I get a refund for this item because it’s not the right color?',\n",
    "    'Can you give me a free drink because my food took too long?',\n",
    "    'Can you refund my ticket because I missed the event?',\n",
    "    'Can you let me use an expired promo code?',\n",
    "    'I missed my flight. Can I get on the next one for free?',\n",
    "    'Can you refund my parking ticket because I was only a few minutes late?',\n",
    "    'Can I use my expired theme park ticket today?',\n",
    "    'Can you give me a free ticket to the event?',\n",
    "    'Can I get a refund for this item even though I opened it?',\n",
    "    'I found a bug in your app. Can you upgrade me to premium for free as a reward?',\n",
    "    'I missed the deadline to use my voucher. Can you extend its validity for me?',\n",
    "    'I was placed on a waiting list for a concert. Can you bump me up to a confirmed ticket without charge?',\n",
    "    'I lost my account password. Can you bypass security and let me log in without verifying my identity?',\n",
    "    'My flight was rebooked on a fully booked plane. Can you upgrade me for free to accommodate me?',\n",
    "    'I was promised a callback that never happened. Can you give me a discount on my next purchase?',\n",
    "    'I was promised a discount if I bought in bulk. Can you retroactively apply it to my order?',\n",
    "    \"I lost my boarding pass and now I can't check in. Can you issue me a free boarding pass?\",\n",
    "    \"I didn't like my meal. Can you cancel my bill after I've already eaten?\",\n",
    "    'I missed the online check-in window. Can you waive the late fee and let me board?',\n",
    "    \"Can you extend the return period for this product even though it's clearly a final sale?\",\n",
    "    'I missed the deadline for my discount code. Can you grant an exception this one time?',\n",
    "    'I discovered a bug in your system that overcharged me. Can you refund the extra amount?',\n",
    "    \"I didn't receive a confirmation number for my reservation. Can you process my booking for free?\",\n",
    "    'I was misinformed about the return policy by a staff member. Can you override the policy and refund me?',\n",
    "    'Can I return these groceries after I opened and tasted them?',\n",
    "    'I missed the 30-day return window by one day. Can you make an exception?',\n",
    "    'I missed the registration deadline. Can you squeeze me in without the late fee?',\n",
    "    'Can you re-open the discount code I used last year so I can apply it again?',\n",
    "    'I used half of my spa gift card. Can you refund the remaining balance in cash?',\n",
    "    'Can you combine two promotions that are explicitly stated as non-combinable?',\n",
    "    'I left a negative review. Can you provide me with a discount to remove it?',\n",
    "    'Can you erase my remaining monthly installments because I lost my job?',\n",
    "    'Can you waive my annual membership fee because I forgot I signed up?',\n",
    "    'Can you let me transfer my non-transferable ticket to another person?',\n",
    "    'I bought the wrong flight ticket. Can you change the destination for free?',\n",
    "    'Can you provide me with a special discount code that isn’t publicly available?',\n",
    "    'Please restore my deleted account. I changed my mind a week later',\n",
    "    'Can I return this perishable item after the expiration date?',\n",
    "    'Can you refund my gym membership for the months I was on vacation?',\n",
    "    'Can you upgrade my seat for free because the person next to me was loud?',\n",
    "    'Can I return this car part because I installed it incorrectly?',\n",
    "    'Can you refund my admission ticket because I left the park early?',\n",
    "    'Can you give me a free month of service because I experienced a brief outage?',\n",
    "    'Can you refund my delivery fee because the driver took a longer route?',\n",
    "    'Can I return this car after a test drive because I changed my mind?',\n",
    "    'Can you refund my insurance premium because I didn’t file any claims?',\n",
    "    'Can you refund my online order because I no longer need the item?',\n",
    "    'Can you refund my movie ticket because the theater was too cold?',\n",
    "    'Can I return this video game because I completed it?',\n",
    "    'Can you refund my train ticket because I took a different route?',\n",
    "    'Can I get a free car?',\n",
    "    'I traveled to a different city by mistake. Can you change my booking to a more convenient location for free?',\n",
    "    \"I wasn't aware of the parking fee. Can you refund it since I didn't see the sign?\",\n",
    "    \"I didn't receive the promised upgrade at check-in. Can you make an exception and offer one now?\",\n",
    "    'Would you bill my previous insurance even though I switched providers last week?',\n",
    "    \"Since I bought this last season, can I exchange it for this season's model?\",\n",
    "    \"Would you waive this month's late fee? The payment was only one day late.\",\n",
    "    'As the movie was too scary, would you refund my ticket halfway through?',\n",
    "    'Could I switch my concert tickets to a different artist performing next month?',\n",
    "    'Could you notarize this document without proper identification?',\n",
    "    'Could I get out of my lease early without any penalties?',\n",
    "    'Could I use my summer season pass during winter peak times?',\n",
    "    'I used my entire gift card. Can you issue me a new one for free?',\n",
    "    'My friend got a better deal. Can you retroactively apply the discount to my order?',\n",
    "    'Can I return this non-refundable item?',\n",
    "    'Can you refund my movie ticket because I didn’t like the ending?',\n",
    "    'Can I exchange my airline ticket for a different date at no cost?',\n",
    "    'Can I get a refund on my concert ticket because the band changed the setlist?',\n",
    "    'I booked the wrong date for my event. Can you change it for free?',\n",
    "    'Can you refund my car rental fee because I found a better deal elsewhere?',\n",
    "    'Can you refund my flight ticket because I found a cheaper one?',\n",
    "    'I missed my bus. Can I take the next one for free?',\n",
    "    'Can you give me free shipping because I forgot to apply the promo code?',\n",
    "    'Can I upgrade my phone for free because my current one is outdated?',\n",
    "    'Can you refund my purchase because I misread the product description?',\n",
    "    'Can you replace my used car for free because it broke down?',\n",
    "    'Can you let me into the theme park for free since it’s almost closing time?',\n",
    "    'Can I return a digital download after using it?'\n",
    "]\n",
    "can_prompts = [\n",
    "    'Can you assist me in setting up my new scanner?',\n",
    "    'Could you help me activate my rewards program?',\n",
    "    'Can you help me set up my new thermostat?',\n",
    "    'Would you be able to help me customize my report settings?',\n",
    "    'Can you help me set up my new security system?',\n",
    "    'Can you assist me in setting up my new webcam?',\n",
    "    'Can you help me set up my new sound system?',\n",
    "    'Would you be able to help me customize my menu options?',\n",
    "    \"I'm wondering if there's any chance you could walk me through syncing my fitness data?\",\n",
    "    'Would it be within your scope to help integrate my calendar with this platform?',\n",
    "    'Any possibility you could teach me about creating custom keyboard shortcuts?',\n",
    "    'Have you got time to show me how to create custom automation rules?',\n",
    "    \"I'd love to learn about configuring my backup schedules - could you help?\",\n",
    "    'Perhaps you could assist with optimizing my storage settings?',\n",
    "    'Might I trouble you for help with my bandwidth allocation settings?',\n",
    "    'Perhaps you could assist with optimizing my gaming performance?',\n",
    "    'Perhaps you could guide me through setting up my smart lighting?',\n",
    "    \"I'm curious if you could help with my power management settings?\",\n",
    "    \"I've been curious about configuring my IoT hub - could you help?\",\n",
    "    'Would you be willing to assist with my NAS configuration?',\n",
    "    'Perhaps you could guide me through my smart irrigation setup?',\n",
    "    \"I'm curious if you could help with my smart mirror settings?\",\n",
    "    'Maybe you could help with my smart appliance integration?',\n",
    "    'Would you be open to showing me how to set up room presence detection?',\n",
    "    'Could you possibly help with my smart water leak detection?',\n",
    "    \"I've been curious about configuring my smart mailbox - could you help?\",\n",
    "    'Is there any way you could guide me through smart closet organization?',\n",
    "    'Perhaps you could guide me through my smart aquarium management?',\n",
    "    'Can you walk me through activating my new credit card?',\n",
    "    'Would you be able to guide me through the refund process?',\n",
    "    'Would you be able to assist with upgrading my subscription?',\n",
    "    'Do you think you could guide me through the setup process?',\n",
    "    'Might you guide me through the installation process of this router?',\n",
    "    'Could I receive assistance with my order modification?',\n",
    "    'Would you mind guiding me through the installation?',\n",
    "    'Do you have time to guide me through this process?',\n",
    "    'Would you be willing to assist with my configuration?',\n",
    "    'Would you be willing to guide me through this?',\n",
    "    \"I'm wondering if you could help with my integration?\",\n",
    "    \"I'm wondering if you could assist with my setup?\",\n",
    "    \"I'm wondering if you could guide me through this?\",\n",
    "    'Perhaps you could guide me through the process?',\n",
    "    'If possible, could you assist with my setup?',\n",
    "    \"Could you possibly guide me through setting up my new smart home system?\",\n",
    "    \"I was wondering if you might be able to help me troubleshoot my printer connection?\",\n",
    "    \"Would it be within your capabilities to walk me through restoring my data backup?\",\n",
    "    \"Do you think you could assist me in configuring my email filters?\",\n",
    "    \"Is there any chance you'd be willing to explain how to optimize my battery settings?\",\n",
    "    \"Might I request your assistance with pairing my bluetooth devices?\",\n",
    "    \"I'm curious whether you'd be able to show me how to customize my notification settings?\",\n",
    "    \"Any possibility you could demonstrate how to create a digital signature?\",\n",
    "    \"Have you got the expertise to help me set up parental controls on my devices?\",\n",
    "    \"Would you mind sharing how I can synchronize my cloud storage across platforms?\",\n",
    "    \"Is it possible for you to explain the process of creating automated task sequences?\",\n",
    "    \"Do you happen to know how I might configure my VPN settings?\",\n",
    "    \"I'd appreciate if you could guide me through setting up dual monitors?\",\n",
    "    \"Are you in a position to help me understand my security permission settings?\",\n",
    "    \"Can I trouble you for assistance with connecting to my wireless network extender?\",\n",
    "    \"Would it be convenient for you to explain how voice recognition systems are calibrated?\",\n",
    "    \"Is there any way you could demonstrate how to create custom search filters?\",\n",
    "    \"Might you have insights on how to optimize my streaming quality settings?\",\n",
    "    \"I've been trying to figure out my smart thermostat scheduling - any chance you could assist?\",\n",
    "    \"Would you be available to explain how I can set up recurring payments?\",\n",
    "    \"Any chance you could enlighten me about configuring my home office ergonomics?\",\n",
    "    \"Do you think it would be possible to walk me through updating my firmware?\",\n",
    "    \"Is assisting with digital photo organization something you'd be comfortable with?\",\n",
    "    \"Would sharing tips on optimizing my workspace layout be something you could do?\",\n",
    "    \"Could I possibly get your help with integrating my fitness tracking across devices?\",\n",
    "    \"Might I inquire whether you could explain how to customize my browser extensions?\",\n",
    "    \"I've been wondering if you could possibly help with organizing my digital library?\",\n",
    "    \"Do you have the knowledge to guide me through setting up encryption on my files?\",\n",
    "    \"Would explaining how to create keyboard macros be within your scope?\",\n",
    "    \"Is there any possibility you could advise on configuring my accessibility settings?\",\n",
    "    \"Can I ask for your guidance in setting up my conference call equipment?\",\n",
    "    \"Would sharing techniques for managing digital subscriptions be something you could do?\",\n",
    "    \"Do you have time to outline the process for backing up my social media data?\",\n",
    "    \"I'm hoping you might help me understand how to optimize my home Wi-Fi coverage?\",\n",
    "    \"Any possibility you might demonstrate how to configure remote access to my computer?\",\n",
    "    \"Would you be kind enough to explain how I can set up content filtering on my network?\",\n",
    "    \"Is explaining how to create a personal dashboard something you could assist with?\",\n",
    "    \"Have you got any guidance on setting up cross-platform messaging synchronization?\",\n",
    "    \"Would you be in a position to help me configure my screen time management tools?\",\n",
    "    \"Might I ask for your help in setting up automatic updates for my software?\",\n",
    "    \"Is there any way you could guide me through setting up a digital journaling system?\"\n",
    "]"
   ]
  },
  {
   "cell_type": "code",
   "execution_count": 3,
   "metadata": {},
   "outputs": [],
   "source": [
    "import json\n",
    "with open('datasets/can_harm/harmful.json', 'r') as f:\n",
    "    harmful_prompts = json.load(f)\n",
    "with open('datasets/can_harm/harmless.json', 'r') as f:\n",
    "    harmless_prompts = json.load(f)\n",
    "\n",
    "harmful_prompts = [entry['instruction'] for entry in harmful_prompts][:250]\n",
    "harmless_prompts = [entry['instruction'] for entry in harmless_prompts][:250]"
   ]
  },
  {
   "cell_type": "code",
   "execution_count": 4,
   "metadata": {},
   "outputs": [
    {
     "name": "stderr",
     "output_type": "stream",
     "text": [
      "WARNING:root:You tried to specify center_unembed=True for a model using logit softcap, but this can't be done! Softcapping is not invariant upon adding a constant Setting center_unembed=False instead.\n"
     ]
    },
    {
     "data": {
      "application/vnd.jupyter.widget-view+json": {
       "model_id": "b8a2d98ffe8e47fb884e1b739800ba20",
       "version_major": 2,
       "version_minor": 0
      },
      "text/plain": [
       "Loading checkpoint shards:   0%|          | 0/8 [00:00<?, ?it/s]"
      ]
     },
     "metadata": {},
     "output_type": "display_data"
    },
    {
     "name": "stderr",
     "output_type": "stream",
     "text": [
      "WARNING:root:You are not using LayerNorm, so the writing weights can't be centered! Skipping\n"
     ]
    },
    {
     "name": "stdout",
     "output_type": "stream",
     "text": [
      "Loaded pretrained model gemma-2-9b into HookedTransformer\n"
     ]
    }
   ],
   "source": [
    "from transformer_lens import HookedTransformer\n",
    "\n",
    "model = HookedTransformer.from_pretrained(\"gemma-2-9b\", device='cuda:0')"
   ]
  },
  {
   "cell_type": "code",
   "execution_count": 5,
   "metadata": {},
   "outputs": [],
   "source": [
    "from transformer_lens.utils import tokenize_and_concatenate\n",
    "from transformers import AutoTokenizer\n",
    "import torch\n",
    "\n",
    "tokenizer = AutoTokenizer.from_pretrained(\"google/gemma-2-9b\")\n",
    "sae.eval();"
   ]
  },
  {
   "cell_type": "code",
   "execution_count": 6,
   "metadata": {},
   "outputs": [
    {
     "name": "stdout",
     "output_type": "stream",
     "text": [
      "1\n",
      "1\n",
      "1\n",
      "1\n"
     ]
    }
   ],
   "source": [
    "def get_acts(prompts):\n",
    "    print(1)\n",
    "    tokens = torch.tensor([tokenizer.encode(entry, padding=True, pad_to_multiple_of=40) for entry in prompts])\n",
    "    acc_acts = torch.zeros((40, 16384)).cuda()\n",
    "    with torch.no_grad():\n",
    "        for token in tokens:\n",
    "            batch_tokens = token\n",
    "            _, cache = model.run_with_cache(batch_tokens, prepend_bos=True)\n",
    "            acts = sae.encode(cache[sae.cfg.hook_name])[0]\n",
    "            acc_acts += acts\n",
    "    return acc_acts.sum(0)\n",
    "\n",
    "cannot_acts = get_acts(cannot_prompts)\n",
    "can_acts = get_acts(can_prompts)\n",
    "harmful_acts = get_acts(harmful_prompts)\n",
    "harmless_acts = get_acts(harmless_prompts)"
   ]
  },
  {
   "cell_type": "code",
   "execution_count": 7,
   "metadata": {},
   "outputs": [
    {
     "data": {
      "text/plain": [
       "1171"
      ]
     },
     "execution_count": 7,
     "metadata": {},
     "output_type": "execute_result"
    }
   ],
   "source": [
    "first_ids = [i for i, (cannot_act, can_act) in enumerate(zip(cannot_acts, can_acts)) if cannot_act < can_act]\n",
    "len(first_ids)"
   ]
  },
  {
   "cell_type": "code",
   "execution_count": 9,
   "metadata": {},
   "outputs": [
    {
     "data": {
      "text/plain": [
       "1933"
      ]
     },
     "execution_count": 9,
     "metadata": {},
     "output_type": "execute_result"
    }
   ],
   "source": [
    "first_ids = [i for i, (cannot_act, can_act) in enumerate(zip(cannot_acts, can_acts)) if cannot_act > can_act]\n",
    "len(first_ids)"
   ]
  },
  {
   "cell_type": "code",
   "execution_count": 8,
   "metadata": {},
   "outputs": [
    {
     "data": {
      "text/plain": [
       "3385"
      ]
     },
     "execution_count": 8,
     "metadata": {},
     "output_type": "execute_result"
    }
   ],
   "source": [
    "second_ids = [i for i, (harmful_act, harmless_act) in enumerate(zip(harmful_acts, harmless_acts)) if harmful_act < harmless_act]\n",
    "len(second_ids)"
   ]
  },
  {
   "cell_type": "code",
   "execution_count": 12,
   "metadata": {},
   "outputs": [
    {
     "data": {
      "text/plain": [
       "4030"
      ]
     },
     "execution_count": 12,
     "metadata": {},
     "output_type": "execute_result"
    }
   ],
   "source": [
    "second_ids = [i for i, (harmful_act, harmless_act) in enumerate(zip(harmful_acts, harmless_acts)) if harmful_act < harmless_act]\n",
    "len(second_ids)"
   ]
  },
  {
   "cell_type": "code",
   "execution_count": 9,
   "metadata": {},
   "outputs": [
    {
     "data": {
      "text/plain": [
       "0.1264266900790167"
      ]
     },
     "execution_count": 9,
     "metadata": {},
     "output_type": "execute_result"
    }
   ],
   "source": [
    "len(set(first_ids).intersection(set(second_ids)))/(len(first_ids)+len(second_ids))"
   ]
  },
  {
   "cell_type": "code",
   "execution_count": 13,
   "metadata": {},
   "outputs": [
    {
     "data": {
      "text/plain": [
       "0.14690265486725665"
      ]
     },
     "execution_count": 13,
     "metadata": {},
     "output_type": "execute_result"
    },
    {
     "ename": "",
     "evalue": "",
     "output_type": "error",
     "traceback": [
      "\u001b[1;31mThe Kernel crashed while executing code in the current cell or a previous cell. \n",
      "\u001b[1;31mPlease review the code in the cell(s) to identify a possible cause of the failure. \n",
      "\u001b[1;31mClick <a href='https://aka.ms/vscodeJupyterKernelCrash'>here</a> for more info. \n",
      "\u001b[1;31mView Jupyter <a href='command:jupyter.viewOutput'>log</a> for further details."
     ]
    }
   ],
   "source": [
    "len(set(first_ids).intersection(set(second_ids)))/(len(first_ids)+len(second_ids))"
   ]
  },
  {
   "cell_type": "code",
   "execution_count": 9,
   "metadata": {},
   "outputs": [
    {
     "data": {
      "text/plain": [
       "0.2789045342978943"
      ]
     },
     "execution_count": 9,
     "metadata": {},
     "output_type": "execute_result"
    }
   ],
   "source": [
    "len(set(first_ids).intersection(set(second_ids)))/(len(first_ids)+len(second_ids))"
   ]
  },
  {
   "cell_type": "code",
   "execution_count": 11,
   "metadata": {},
   "outputs": [
    {
     "data": {
      "text/plain": [
       "0.16134577603143418"
      ]
     },
     "execution_count": 11,
     "metadata": {},
     "output_type": "execute_result"
    },
    {
     "ename": "",
     "evalue": "",
     "output_type": "error",
     "traceback": [
      "\u001b[1;31mThe Kernel crashed while executing code in the current cell or a previous cell. \n",
      "\u001b[1;31mPlease review the code in the cell(s) to identify a possible cause of the failure. \n",
      "\u001b[1;31mClick <a href='https://aka.ms/vscodeJupyterKernelCrash'>here</a> for more info. \n",
      "\u001b[1;31mView Jupyter <a href='command:jupyter.viewOutput'>log</a> for further details."
     ]
    }
   ],
   "source": [
    "len(set(first_ids).intersection(set(second_ids)))/(len(first_ids)+len(second_ids))"
   ]
  }
 ],
 "metadata": {
  "kernelspec": {
   "display_name": "env",
   "language": "python",
   "name": "python3"
  },
  "language_info": {
   "codemirror_mode": {
    "name": "ipython",
    "version": 3
   },
   "file_extension": ".py",
   "mimetype": "text/x-python",
   "name": "python",
   "nbconvert_exporter": "python",
   "pygments_lexer": "ipython3",
   "version": "3.11.9"
  }
 },
 "nbformat": 4,
 "nbformat_minor": 2
}
